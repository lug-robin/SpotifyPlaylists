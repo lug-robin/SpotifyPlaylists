{
 "cells": [
  {
   "cell_type": "code",
   "execution_count": 8,
   "id": "1042b6dd-15c6-416a-9a45-dc22f31828e2",
   "metadata": {
    "tags": []
   },
   "outputs": [],
   "source": [
    "import csv\n",
    "import pandas as pd\n",
    "import numpy as np\n",
    "import os.path"
   ]
  },
  {
   "cell_type": "code",
   "execution_count": 4,
   "id": "d9e76007-5c21-492e-a0b5-69a37baa6bfb",
   "metadata": {
    "tags": []
   },
   "outputs": [],
   "source": [
    "df=pd.read_csv(\"spotify_dataset.csv\",sep=\",\",on_bad_lines=\"skip\")"
   ]
  },
  {
   "cell_type": "code",
   "execution_count": 13,
   "id": "43a17539-e483-493a-832c-61b74b2686fd",
   "metadata": {
    "tags": []
   },
   "outputs": [
    {
     "data": {
      "text/html": [
       "<div>\n",
       "<style scoped>\n",
       "    .dataframe tbody tr th:only-of-type {\n",
       "        vertical-align: middle;\n",
       "    }\n",
       "\n",
       "    .dataframe tbody tr th {\n",
       "        vertical-align: top;\n",
       "    }\n",
       "\n",
       "    .dataframe thead th {\n",
       "        text-align: right;\n",
       "    }\n",
       "</style>\n",
       "<table border=\"1\" class=\"dataframe\">\n",
       "  <thead>\n",
       "    <tr style=\"text-align: right;\">\n",
       "      <th></th>\n",
       "      <th>user_id</th>\n",
       "      <th>artist</th>\n",
       "      <th>track</th>\n",
       "      <th>playlist</th>\n",
       "    </tr>\n",
       "  </thead>\n",
       "  <tbody>\n",
       "    <tr>\n",
       "      <th>12891675</th>\n",
       "      <td>2302bf9c64dc63d88a750215ed187f2c</td>\n",
       "      <td>Mötley Crüe</td>\n",
       "      <td>Wild Side</td>\n",
       "      <td>iPhone</td>\n",
       "    </tr>\n",
       "    <tr>\n",
       "      <th>12891676</th>\n",
       "      <td>2302bf9c64dc63d88a750215ed187f2c</td>\n",
       "      <td>John Lennon</td>\n",
       "      <td>Woman</td>\n",
       "      <td>iPhone</td>\n",
       "    </tr>\n",
       "    <tr>\n",
       "      <th>12891677</th>\n",
       "      <td>2302bf9c64dc63d88a750215ed187f2c</td>\n",
       "      <td>Tom Petty</td>\n",
       "      <td>You Don't Know How It Feels</td>\n",
       "      <td>iPhone</td>\n",
       "    </tr>\n",
       "    <tr>\n",
       "      <th>12891678</th>\n",
       "      <td>2302bf9c64dc63d88a750215ed187f2c</td>\n",
       "      <td>Tom Petty</td>\n",
       "      <td>You Wreck Me</td>\n",
       "      <td>iPhone</td>\n",
       "    </tr>\n",
       "    <tr>\n",
       "      <th>12891679</th>\n",
       "      <td>2302bf9c64dc63d88a750215ed187f2c</td>\n",
       "      <td>Skid Row</td>\n",
       "      <td>Youth Gone Wild</td>\n",
       "      <td>iPhone</td>\n",
       "    </tr>\n",
       "  </tbody>\n",
       "</table>\n",
       "</div>"
      ],
      "text/plain": [
       "                                   user_id       artist  \\\n",
       "12891675  2302bf9c64dc63d88a750215ed187f2c  Mötley Crüe   \n",
       "12891676  2302bf9c64dc63d88a750215ed187f2c  John Lennon   \n",
       "12891677  2302bf9c64dc63d88a750215ed187f2c    Tom Petty   \n",
       "12891678  2302bf9c64dc63d88a750215ed187f2c    Tom Petty   \n",
       "12891679  2302bf9c64dc63d88a750215ed187f2c     Skid Row   \n",
       "\n",
       "                                track playlist  \n",
       "12891675                    Wild Side   iPhone  \n",
       "12891676                        Woman   iPhone  \n",
       "12891677  You Don't Know How It Feels   iPhone  \n",
       "12891678                 You Wreck Me   iPhone  \n",
       "12891679              Youth Gone Wild   iPhone  "
      ]
     },
     "execution_count": 13,
     "metadata": {},
     "output_type": "execute_result"
    }
   ],
   "source": [
    "df.tail()"
   ]
  },
  {
   "cell_type": "code",
   "execution_count": 6,
   "id": "6c837774-897f-4205-a64c-94d030998066",
   "metadata": {
    "tags": []
   },
   "outputs": [
    {
     "name": "stdout",
     "output_type": "stream",
     "text": [
      "<class 'pandas.core.frame.DataFrame'>\n",
      "RangeIndex: 12891680 entries, 0 to 12891679\n",
      "Data columns (total 4 columns):\n",
      " #   Column           Dtype \n",
      "---  ------           ----- \n",
      " 0   user_id          object\n",
      " 1    \"artistname\"    object\n",
      " 2    \"trackname\"     object\n",
      " 3    \"playlistname\"  object\n",
      "dtypes: object(4)\n",
      "memory usage: 393.4+ MB\n"
     ]
    }
   ],
   "source": [
    "df.info()"
   ]
  },
  {
   "cell_type": "code",
   "execution_count": 12,
   "id": "fe433cd0-4ce8-40bf-ae45-44cb48ab523c",
   "metadata": {
    "tags": []
   },
   "outputs": [
    {
     "data": {
      "text/plain": [
       "Index(['user_id', 'artist', 'track', 'playlist'], dtype='object')"
      ]
     },
     "execution_count": 12,
     "metadata": {},
     "output_type": "execute_result"
    }
   ],
   "source": [
    "df.columns"
   ]
  },
  {
   "cell_type": "code",
   "execution_count": 11,
   "id": "948ffd35-aee0-412c-800f-4fa5299eff32",
   "metadata": {
    "tags": []
   },
   "outputs": [],
   "source": [
    "df=df.rename(columns={' \"artistname\"':'artist',' \"trackname\"':'track',' \"playlistname\"':\"playlist\"})"
   ]
  },
  {
   "cell_type": "code",
   "execution_count": 14,
   "id": "fa686a26-386c-4182-aea0-09958806d58f",
   "metadata": {
    "tags": []
   },
   "outputs": [],
   "source": [
    "df.to_csv(os.path.join('Spotify_cleaned.csv'))"
   ]
  }
 ],
 "metadata": {
  "kernelspec": {
   "display_name": "Python 3 (ipykernel)",
   "language": "python",
   "name": "python3"
  },
  "language_info": {
   "codemirror_mode": {
    "name": "ipython",
    "version": 3
   },
   "file_extension": ".py",
   "mimetype": "text/x-python",
   "name": "python",
   "nbconvert_exporter": "python",
   "pygments_lexer": "ipython3",
   "version": "3.11.5"
  }
 },
 "nbformat": 4,
 "nbformat_minor": 5
}
